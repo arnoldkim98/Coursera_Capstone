{
 "cells": [
  {
   "cell_type": "markdown",
   "metadata": {},
   "source": [
    "# This notebook will be mainly used for this capstone project"
   ]
  },
  {
   "cell_type": "code",
   "execution_count": 8,
   "metadata": {},
   "outputs": [],
   "source": [
    "import numpy as np\n",
    "import pandas as pd"
   ]
  },
  {
   "cell_type": "code",
   "execution_count": 9,
   "metadata": {},
   "outputs": [
    {
     "name": "stdout",
     "output_type": "stream",
     "text": [
      "Hello Capstone Project Course!\n"
     ]
    }
   ],
   "source": [
    "print(\"Hello Capstone Project Course!\")"
   ]
  },
  {
   "cell_type": "markdown",
   "metadata": {},
   "source": [
    "#### Introduction/Business Problem"
   ]
  },
  {
   "cell_type": "markdown",
   "metadata": {},
   "source": [
    "The severity of car accidents are dependent on many factors such as road surface conditions, weather, light, driver's substance abuse and many more. These factors can be used to measure and predict the severity of accidents. \n",
    "\n",
    "The governments and police departments may be interested to know what causes accidents to be severe which that knowledge can be utilised by warning drivers, watching the road more closely, and monitoring the roads by deploying more officers for inspections. If the police and the governments can identify what causes more sever accidents, they can set out more safety measures and therefore reduce accidents that may lead to possible serious injuries and deaths. Thus, my job as a data scientist is to identify, measure and present to the target audience (governments and police) and to warn and notify in what conditions they need to be more alert and put more measures to prevent such severe car accidents."
   ]
  },
  {
   "cell_type": "markdown",
   "metadata": {},
   "source": [
    "#### About the Data "
   ]
  },
  {
   "cell_type": "markdown",
   "metadata": {},
   "source": [
    "This dataset provides information on motor vehicle operators (drivers) involved in traffic collisions occurring on county and local roadways. The dataset reports details of all traffic collisions occurring on county and local roadways within Montgomery County, as collected via the Automated Crash Reporting System (ACRS) of the Maryland State Police, and reported by the Montgomery County Police, Gaithersburg Police, Rockville Police, or the Maryland-National Capital Park Police. This dataset shows each collision data recorded and the drivers involved.\n",
    "\n",
    "The data contains information about the conditions in which the accidnets took place such as weather, surface condition, light, Traffic control, driver substance abuse, whether driver was distracted, speed limit and injury severity. These factors (columns) will be used to measure whether they have a significance in the severity of the accidents. For example, raining weather conditions may lead to more accidents that lead to serious injuries, whereas clear weathers may result in less severe injuries. All these factors will be invested to examine whether they have a role in the causation of more severe car accidents."
   ]
  },
  {
   "cell_type": "code",
   "execution_count": null,
   "metadata": {},
   "outputs": [],
   "source": []
  }
 ],
 "metadata": {
  "kernelspec": {
   "display_name": "Python 3",
   "language": "python",
   "name": "python3"
  },
  "language_info": {
   "codemirror_mode": {
    "name": "ipython",
    "version": 3
   },
   "file_extension": ".py",
   "mimetype": "text/x-python",
   "name": "python",
   "nbconvert_exporter": "python",
   "pygments_lexer": "ipython3",
   "version": "3.7.3"
  }
 },
 "nbformat": 4,
 "nbformat_minor": 2
}
